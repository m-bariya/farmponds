{
 "cells": [
  {
   "cell_type": "markdown",
   "id": "d8813502-6571-4936-9377-141cd3132a06",
   "metadata": {},
   "source": [
    "## My first notebook"
   ]
  },
  {
   "cell_type": "code",
   "execution_count": null,
   "id": "1eb166a7-0654-441c-8e17-a1af067a189c",
   "metadata": {},
   "outputs": [],
   "source": []
  }
 ],
 "metadata": {
  "kernelspec": {
   "display_name": "Python 3 (ipykernel)",
   "language": "python",
   "name": "python3"
  },
  "language_info": {
   "codemirror_mode": {
    "name": "ipython",
    "version": 3
   },
   "file_extension": ".py",
   "mimetype": "text/x-python",
   "name": "python",
   "nbconvert_exporter": "python",
   "pygments_lexer": "ipython3",
   "version": "3.11.7"
  }
 },
 "nbformat": 4,
 "nbformat_minor": 5
}
