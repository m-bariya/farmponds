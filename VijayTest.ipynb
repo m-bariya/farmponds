{
 "cells": [
  {
   "cell_type": "markdown",
   "id": "ebdbbf67-a85b-4535-84b0-004ea65f0c47",
   "metadata": {},
   "source": [
    "# This is my run in Jupiter"
   ]
  },
  {
   "cell_type": "code",
   "execution_count": 4,
   "id": "a26f1634-91c9-4097-86d8-f65ef5782301",
   "metadata": {},
   "outputs": [],
   "source": [
    "# IMPORTS\n",
    "import numpy as np"
   ]
  },
  {
   "cell_type": "code",
   "execution_count": 6,
   "id": "d85a93d4-82a7-4595-a293-d8870aca4ed3",
   "metadata": {},
   "outputs": [],
   "source": [
    " group =np.array(5)"
   ]
  },
  {
   "cell_type": "code",
   "execution_count": null,
   "id": "0724f08e-c29b-48a1-8a13-087d05934367",
   "metadata": {},
   "outputs": [],
   "source": []
  },
  {
   "cell_type": "code",
   "execution_count": 21,
   "id": "39eff15f-e720-4aa1-a233-68d3c6f43027",
   "metadata": {},
   "outputs": [
    {
     "name": "stdout",
     "output_type": "stream",
     "text": [
      "[[0. 0. 0. 0.]\n",
      " [0. 0. 0. 0.]\n",
      " [0. 0. 0. 0.]\n",
      " [0. 0. 0. 0.]\n",
      " [0. 0. 0. 0.]\n",
      " [0. 0. 0. 0.]\n",
      " [0. 0. 0. 0.]\n",
      " [0. 0. 0. 0.]\n",
      " [0. 0. 0. 0.]\n",
      " [0. 0. 0. 0.]]\n"
     ]
    }
   ],
   "source": [
    "bigdata=np.empty([10,4])\n",
    "print(bigdata)"
   ]
  },
  {
   "cell_type": "code",
   "execution_count": 27,
   "id": "5b9e7762-7664-4930-99a8-b7176b68032f",
   "metadata": {},
   "outputs": [
    {
     "name": "stdout",
     "output_type": "stream",
     "text": [
      "[[0. 0. 0. 0.]\n",
      " [0. 0. 0. 0.]\n",
      " [0. 0. 0. 0.]\n",
      " [0. 0. 0. 0.]\n",
      " [0. 0. 0. 0.]\n",
      " [0. 0. 0. 0.]\n",
      " [0. 0. 0. 0.]\n",
      " [0. 0. 0. 0.]\n",
      " [0. 0. 0. 0.]\n",
      " [0. 0. 0. 0.]]\n"
     ]
    },
    {
     "data": {
      "text/plain": [
       "(10, 4)"
      ]
     },
     "execution_count": 27,
     "metadata": {},
     "output_type": "execute_result"
    }
   ],
   "source": [
    "bigdata=np.zeros([10,4])\n",
    "print(bigdata)\n",
    "np.shape(bigdata)"
   ]
  },
  {
   "cell_type": "code",
   "execution_count": 37,
   "id": "b3048f04-a455-4d6f-9981-f3aab2bf072c",
   "metadata": {},
   "outputs": [
    {
     "name": "stdout",
     "output_type": "stream",
     "text": [
      "[[0. 0. 0.]\n",
      " [0. 0. 0.]]\n"
     ]
    }
   ],
   "source": [
    "bigdata=np.zeros([2,3])\n",
    "print(bigdata)\n",
    "np.shape(bigdata)\n",
    "bigdata[0:1]=10\n"
   ]
  },
  {
   "cell_type": "code",
   "execution_count": 39,
   "id": "c64c0f3b-13f6-477f-9a16-3dc85fb1bc29",
   "metadata": {},
   "outputs": [
    {
     "name": "stdout",
     "output_type": "stream",
     "text": [
      "[[0. 0. 0.]\n",
      " [0. 0. 0.]]\n"
     ]
    }
   ],
   "source": [
    "array=np.zeros([2,3])\n",
    "print(array)\n",
    "np.shape(array)\n",
    "array[0:1]=10"
   ]
  },
  {
   "cell_type": "code",
   "execution_count": 47,
   "id": "34898e8c-bc96-45fd-bad3-a0b1e67f0fd1",
   "metadata": {},
   "outputs": [
    {
     "name": "stdout",
     "output_type": "stream",
     "text": [
      "[[2 0 2 0 2]\n",
      " [2 0 0 2 1]\n",
      " [0 2 2 1 1]\n",
      " [1 1 1 2 0]\n",
      " [0 2 0 1 0]\n",
      " [2 0 2 2 2]\n",
      " [2 0 2 0 0]\n",
      " [2 1 1 0 2]\n",
      " [2 2 1 2 2]\n",
      " [2 2 0 0 2]]\n"
     ]
    }
   ],
   "source": [
    "array = np.random.randint(0,3, size=(10, 5))\n",
    "print(array)"
   ]
  },
  {
   "cell_type": "code",
   "execution_count": null,
   "id": "42dcc170-a77f-4d92-8f1f-96fb24999285",
   "metadata": {},
   "outputs": [],
   "source": []
  }
 ],
 "metadata": {
  "kernelspec": {
   "display_name": "Python 3 (ipykernel)",
   "language": "python",
   "name": "python3"
  },
  "language_info": {
   "codemirror_mode": {
    "name": "ipython",
    "version": 3
   },
   "file_extension": ".py",
   "mimetype": "text/x-python",
   "name": "python",
   "nbconvert_exporter": "python",
   "pygments_lexer": "ipython3",
   "version": "3.12.4"
  }
 },
 "nbformat": 4,
 "nbformat_minor": 5
}
