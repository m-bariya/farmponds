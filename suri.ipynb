{
 "cells": [
  {
   "cell_type": "markdown",
   "id": "c98c7a37-fc4d-42f0-a70a-fc621fb72bf5",
   "metadata": {},
   "source": [
    "## This is my first notebook"
   ]
  },
  {
   "cell_type": "code",
   "execution_count": 1,
   "id": "64d83689-d379-4874-8cea-08135d95abe3",
   "metadata": {},
   "outputs": [],
   "source": [
    "import numpy as np"
   ]
  },
  {
   "cell_type": "code",
   "execution_count": 4,
   "id": "cd787e37-7bf4-48b4-8625-1ec7826e663b",
   "metadata": {},
   "outputs": [],
   "source": [
    "data=np.array([1,2,3,4])\n"
   ]
  },
  {
   "cell_type": "code",
   "execution_count": 8,
   "id": "7373adca-4eab-4560-9b68-d2875bb0fe33",
   "metadata": {},
   "outputs": [
    {
     "data": {
      "text/plain": [
       "4"
      ]
     },
     "execution_count": 8,
     "metadata": {},
     "output_type": "execute_result"
    }
   ],
   "source": [
    "len(data)"
   ]
  },
  {
   "cell_type": "code",
   "execution_count": 12,
   "id": "efaf3fc2-3b3c-4350-a272-974ef6edc7eb",
   "metadata": {},
   "outputs": [],
   "source": [
    "bigdata=np.zeros([10,5])"
   ]
  },
  {
   "cell_type": "code",
   "execution_count": 13,
   "id": "106fd83a-0f2d-4016-b83a-5eaa1e53696c",
   "metadata": {},
   "outputs": [
    {
     "name": "stdout",
     "output_type": "stream",
     "text": [
      "[[0. 0. 0. 0. 0.]\n",
      " [0. 0. 0. 0. 0.]\n",
      " [0. 0. 0. 0. 0.]\n",
      " [0. 0. 0. 0. 0.]\n",
      " [0. 0. 0. 0. 0.]\n",
      " [0. 0. 0. 0. 0.]\n",
      " [0. 0. 0. 0. 0.]\n",
      " [0. 0. 0. 0. 0.]\n",
      " [0. 0. 0. 0. 0.]\n",
      " [0. 0. 0. 0. 0.]]\n"
     ]
    }
   ],
   "source": [
    "print (bigdata)\n"
   ]
  },
  {
   "cell_type": "code",
   "execution_count": 18,
   "id": "88153d2c-475c-428d-8e55-6ef5f3da4b1a",
   "metadata": {},
   "outputs": [],
   "source": [
    "bigdata[0][3]=6"
   ]
  },
  {
   "cell_type": "code",
   "execution_count": 19,
   "id": "5f7a0a34-b6f7-4689-bb01-b96ed5360dcf",
   "metadata": {},
   "outputs": [
    {
     "name": "stdout",
     "output_type": "stream",
     "text": [
      "[[0. 0. 0. 6. 0.]\n",
      " [0. 0. 0. 0. 0.]\n",
      " [0. 0. 0. 0. 0.]\n",
      " [0. 0. 0. 0. 6.]\n",
      " [0. 0. 0. 6. 0.]\n",
      " [0. 0. 0. 0. 0.]\n",
      " [0. 0. 0. 0. 0.]\n",
      " [0. 0. 0. 0. 0.]\n",
      " [0. 0. 0. 0. 0.]\n",
      " [0. 0. 0. 0. 0.]]\n"
     ]
    }
   ],
   "source": [
    "print(bigdata)"
   ]
  },
  {
   "cell_type": "code",
   "execution_count": 22,
   "id": "9e2e9214-e5f0-4736-8385-f739608ba6a1",
   "metadata": {},
   "outputs": [],
   "source": [
    "dataa=np.random.random([5,5])"
   ]
  },
  {
   "cell_type": "code",
   "execution_count": 23,
   "id": "ece8e9aa-d4ec-4763-af97-ab317cdaa308",
   "metadata": {},
   "outputs": [
    {
     "name": "stdout",
     "output_type": "stream",
     "text": [
      "[[0.66299239 0.5800784  0.0805868  0.52067251 0.33672981]\n",
      " [0.7161015  0.4365883  0.34185025 0.31552273 0.86865196]\n",
      " [0.06356038 0.35831747 0.94959694 0.95729527 0.94457142]\n",
      " [0.2643429  0.77695035 0.94032136 0.04604935 0.16257009]\n",
      " [0.0848611  0.36355888 0.23248872 0.85974105 0.59191643]]\n"
     ]
    }
   ],
   "source": [
    "print(dataa)"
   ]
  },
  {
   "cell_type": "code",
   "execution_count": null,
   "id": "3cd86613-c869-4300-b799-4a6f16aaf676",
   "metadata": {},
   "outputs": [],
   "source": []
  }
 ],
 "metadata": {
  "kernelspec": {
   "display_name": "Python 3 (ipykernel)",
   "language": "python",
   "name": "python3"
  },
  "language_info": {
   "codemirror_mode": {
    "name": "ipython",
    "version": 3
   },
   "file_extension": ".py",
   "mimetype": "text/x-python",
   "name": "python",
   "nbconvert_exporter": "python",
   "pygments_lexer": "ipython3",
   "version": "3.12.4"
  }
 },
 "nbformat": 4,
 "nbformat_minor": 5
}
